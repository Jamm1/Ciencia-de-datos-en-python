{
 "cells": [
  {
   "cell_type": "markdown",
   "id": "0dc9631f",
   "metadata": {},
   "source": [
    "## Ejercicio 1\n",
    "Cree un procedimiento en Python dado un numero entero en decimal despliegue su representacion en numero binario."
   ]
  },
  {
   "cell_type": "code",
   "execution_count": 1,
   "id": "1702fbdf",
   "metadata": {},
   "outputs": [
    {
     "name": "stdout",
     "output_type": "stream",
     "text": [
      "Ingrese numero a convertir a decimal: 55\n",
      "110111\n"
     ]
    }
   ],
   "source": [
    "def decimal(numerodecimal):\n",
    "    numerobinario = 0\n",
    "    multiplicador = 1\n",
    "\n",
    "    while numerodecimal != 0:\n",
    "        numerobinario = numerobinario + numerodecimal % 2 * multiplicador\n",
    "        numerodecimal //= 2\n",
    "        multiplicador *= 10\n",
    "\n",
    "    return(numerobinario)\n",
    "\n",
    "print(decimal(int(input('Ingrese numero a convertir a decimal: '))))\n"
   ]
  },
  {
   "cell_type": "markdown",
   "id": "239d6442",
   "metadata": {},
   "source": [
    "## Ejercicio 2\n",
    "Desarrolle en Python una funcion que devuelva verdadero si un numero entero que recibe como parametro es primo y devuelva falso en el caso contrario"
   ]
  },
  {
   "cell_type": "code",
   "execution_count": 2,
   "id": "ac60eee9",
   "metadata": {},
   "outputs": [
    {
     "name": "stdout",
     "output_type": "stream",
     "text": [
      "Ingrese numero a validar: 55\n",
      "False\n"
     ]
    }
   ],
   "source": [
    "\n",
    "def primo(valor):\n",
    "    if valor == 1:\n",
    "        return False\n",
    "    elif valor == 2:\n",
    "        return True\n",
    "    else:\n",
    "        for i in range(2, valor):\n",
    "            if valor % i == 0:\n",
    "                return False\n",
    "        \n",
    "        return True\n",
    "print( primo (int(input('Ingrese numero a validar: '))))\n"
   ]
  },
  {
   "cell_type": "markdown",
   "id": "c2bdefdd",
   "metadata": {},
   "source": [
    "## Ejercicio 3  \n",
    "Haga un programa en Python que dada una lista de n numeros, calcule la desviacion estandar\n",
    "del conjunto de numeros, para este ejercicio no puede utilizar ninguna funcion que resuelva\n",
    "el problema."
   ]
  },
  {
   "cell_type": "code",
   "execution_count": 3,
   "id": "25185828",
   "metadata": {},
   "outputs": [
    {
     "name": "stdout",
     "output_type": "stream",
     "text": [
      "Tamaño de lista 4\n",
      "\n",
      "\n",
      "Ingrese numero en el indice 0\n",
      "2\n",
      "Ingrese numero en el indice 1\n",
      "4\n",
      "Ingrese numero en el indice 2\n",
      "5\n",
      "Ingrese numero en el indice 3\n",
      "3\n",
      "Lista es  [2, 4, 5, 3]\n",
      "1.118033988749895\n"
     ]
    }
   ],
   "source": [
    "entrada = []\n",
    "n = int(input(\"Tamaño de lista \"))\n",
    "print(\"\\n\")\n",
    "for i in range(0, n):\n",
    "    print(\"Ingrese numero en el indice\", i, )\n",
    "    item = int(input())\n",
    "    entrada.append(item)\n",
    "print(\"Lista es \", entrada)\n",
    "media = sum(entrada) / len(entrada)\n",
    "cuadrado= sum((x - media) ** 2 for x in entrada) / len(entrada)\n",
    "desviacionestandar = cuadrado ** 0.5\n",
    "print(desviacionestandar)\n",
    "\n"
   ]
  },
  {
   "cell_type": "markdown",
   "id": "15093bba",
   "metadata": {},
   "source": [
    "## Ejercicio 4\n",
    "Desarrolle en Python una funcion que dado un arreglo de corra el algoritmo de ordenamiento burbuja y devuelva un nuevo arreglo ordenado. Posteriormente cree una funcion main para probar su funcion."
   ]
  },
  {
   "cell_type": "code",
   "execution_count": 4,
   "id": "d9ccc5bb",
   "metadata": {},
   "outputs": [
    {
     "name": "stdout",
     "output_type": "stream",
     "text": [
      "Tamaño de lista 4\n",
      "\n",
      "\n",
      "Ingrese numero en el indice 0\n",
      "3\n",
      "Ingrese numero en el indice 1\n",
      "5\n",
      "Ingrese numero en el indice 2\n",
      "6\n",
      "Ingrese numero en el indice 3\n",
      "7\n",
      "Lista es  [3, 5, 6, 7]\n",
      "[3, 5, 6, 7]\n"
     ]
    }
   ],
   "source": [
    "entrada = []\n",
    "n = int(input(\"Tamaño de lista \"))\n",
    "print(\"\\n\")\n",
    "for i in range(0, n):\n",
    "    print(\"Ingrese numero en el indice\", i, )\n",
    "    item = int(input())\n",
    "    entrada.append(item)\n",
    "print(\"Lista es \", entrada)\n",
    "def orderb(entrada):\n",
    "    for n in range(len(entrada) - 1, 0, -1):\n",
    "        for i in range(n):\n",
    "            if entrada[i] > entrada[i + 1]:\n",
    "                temp = entrada[i]\n",
    "                entrada[i] = entrada[i + 1]\n",
    "                entrada[i + 1] = temp\n",
    "    print(entrada)\n",
    "orderb(entrada)"
   ]
  },
  {
   "cell_type": "markdown",
   "id": "51f97f45",
   "metadata": {},
   "source": [
    "## Ejercicio 5\n",
    "Escriba una funcion en Python que dada una tupla de elementos (numeros o letras) esta se convierta a un string. Tomar nota del siguiente ejemplo: Si la entrada fuera: (10, 20, 40, 5, 70) La salida deberıa ser:102040570"
   ]
  },
  {
   "cell_type": "code",
   "execution_count": 5,
   "id": "364b6098",
   "metadata": {},
   "outputs": [
    {
     "name": "stdout",
     "output_type": "stream",
     "text": [
      "102040570\n"
     ]
    }
   ],
   "source": [
    "Entrada=(10, 20, 40, 5, 70)\n",
    "String = \"\"\n",
    "for i, n in enumerate(Entrada):\n",
    "    String = String + str(Entrada[i])\n",
    "print(String)"
   ]
  },
  {
   "cell_type": "markdown",
   "id": "7c0e2b85",
   "metadata": {},
   "source": [
    "## Ejercicio 6  \n",
    "Cree un programa en Python que dada una lista de tuplas, elimine las tuplas que est´an vac´ıas. Tomar nota del siguiente ejemplo:  \n",
    "Si la lista fuera: (), (), (’X’,), (’a’, ’b’), (’a’, ’b’, ’c’), (’d’)]  \n",
    "El resultado deber´ıa ser (’X’), (’a’, ’b’), (’a’, ’b’, ’c’), ’d’]"
   ]
  },
  {
   "cell_type": "code",
   "execution_count": 6,
   "id": "e6a70681",
   "metadata": {},
   "outputs": [
    {
     "name": "stdout",
     "output_type": "stream",
     "text": [
      "[('a', 'b'), (5, 'e', 'z.q'), 5, (10, 56, 12), 1, (), 'Z', (), ()]\n",
      "[('a', 'b'), (5, 'e', 'z.q'), 5, (10, 56, 12), 1, 'Z']\n"
     ]
    }
   ],
   "source": [
    "tupla= [('a', 'b'), (5,'e','z.q'), (5), (10, 56, 12), (1), (), ('Z'),(),()]\n",
    "print(tupla)\n",
    "tupla = [a for a in tupla if a]\n",
    "print(tupla)\n"
   ]
  },
  {
   "cell_type": "markdown",
   "id": "c63fbc15",
   "metadata": {},
   "source": [
    "## Ejercicio 7  \n",
    "Cree una funcion en Python que dada una tupla de tuplas con numeros, produzca una tupla con el promedio de cada tupla individual. Tomar nota del siguiente ejemplo:  \n",
    "Si la tupla de entrada fuera: ((10, 10, 10, 12), (30, 45, 56, 45), (81, 80, 39, 32))  \n",
    "El resultado deberıa ser: (10.5, 44, 58)"
   ]
  },
  {
   "cell_type": "code",
   "execution_count": 7,
   "id": "3e761938",
   "metadata": {},
   "outputs": [
    {
     "name": "stdout",
     "output_type": "stream",
     "text": [
      "[]10.5, 44.0, 58.0, \n"
     ]
    }
   ],
   "source": [
    "\n",
    "tupla1=((10, 10, 10, 12), (30, 45, 56, 45), (81, 80, 39, 32))\n",
    "promedios=[]\n",
    "for i in range (0, len(tupla1)):\n",
    "    prom = 0\n",
    "    prom = sum(tupla1[i]) / len(tupla1[i])\n",
    "    if i < (len(tupla1)):\n",
    "        promedios = str(promedios) + str(prom) + ', '\n",
    "    else: promedio = str(promedios) + str(prom)\n",
    "    \n",
    "print (promedios)\n"
   ]
  }
 ],
 "metadata": {
  "kernelspec": {
   "display_name": "Python 3 (ipykernel)",
   "language": "python",
   "name": "python3"
  },
  "language_info": {
   "codemirror_mode": {
    "name": "ipython",
    "version": 3
   },
   "file_extension": ".py",
   "mimetype": "text/x-python",
   "name": "python",
   "nbconvert_exporter": "python",
   "pygments_lexer": "ipython3",
   "version": "3.9.7"
  }
 },
 "nbformat": 4,
 "nbformat_minor": 5
}
